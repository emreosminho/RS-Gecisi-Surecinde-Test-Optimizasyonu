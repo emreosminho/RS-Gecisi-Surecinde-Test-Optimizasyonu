{
 "cells": [
  {
   "cell_type": "code",
   "execution_count": 1,
   "id": "981f8ffd-9d06-42d3-bbf7-8b78788766b5",
   "metadata": {},
   "outputs": [
    {
     "name": "stdout",
     "output_type": "stream",
     "text": [
      "Requirement already satisfied: pandas in c:\\users\\datassist\\appdata\\local\\programs\\python\\python313\\lib\\site-packages (2.2.3)\n",
      "Requirement already satisfied: xlrd in c:\\users\\datassist\\appdata\\local\\programs\\python\\python313\\lib\\site-packages (2.0.1)\n",
      "Requirement already satisfied: openpyxl in c:\\users\\datassist\\appdata\\local\\programs\\python\\python313\\lib\\site-packages (3.1.5)\n",
      "Requirement already satisfied: numpy>=1.26.0 in c:\\users\\datassist\\appdata\\local\\programs\\python\\python313\\lib\\site-packages (from pandas) (2.2.4)\n",
      "Requirement already satisfied: python-dateutil>=2.8.2 in c:\\users\\datassist\\appdata\\local\\programs\\python\\python313\\lib\\site-packages (from pandas) (2.9.0.post0)\n",
      "Requirement already satisfied: pytz>=2020.1 in c:\\users\\datassist\\appdata\\local\\programs\\python\\python313\\lib\\site-packages (from pandas) (2025.1)\n",
      "Requirement already satisfied: tzdata>=2022.7 in c:\\users\\datassist\\appdata\\local\\programs\\python\\python313\\lib\\site-packages (from pandas) (2025.1)\n",
      "Requirement already satisfied: et-xmlfile in c:\\users\\datassist\\appdata\\local\\programs\\python\\python313\\lib\\site-packages (from openpyxl) (2.0.0)\n",
      "Requirement already satisfied: six>=1.5 in c:\\users\\datassist\\appdata\\local\\programs\\python\\python313\\lib\\site-packages (from python-dateutil>=2.8.2->pandas) (1.17.0)\n"
     ]
    },
    {
     "name": "stderr",
     "output_type": "stream",
     "text": [
      "\n",
      "[notice] A new release of pip is available: 24.3.1 -> 25.1.1\n",
      "[notice] To update, run: python.exe -m pip install --upgrade pip\n"
     ]
    }
   ],
   "source": [
    "!pip install pandas xlrd openpyxl"
   ]
  },
  {
   "cell_type": "code",
   "execution_count": 7,
   "id": "64a59b21-fdbe-4417-9587-298d8cbd41a7",
   "metadata": {},
   "outputs": [],
   "source": [
    "import pandas as pd"
   ]
  },
  {
   "cell_type": "code",
   "execution_count": 1,
   "id": "edc9dbfc-094e-4eb1-a835-913b8611cfa2",
   "metadata": {},
   "outputs": [
    {
     "ename": "NameError",
     "evalue": "name 'pd' is not defined",
     "output_type": "error",
     "traceback": [
      "\u001b[31m---------------------------------------------------------------------------\u001b[39m",
      "\u001b[31mNameError\u001b[39m                                 Traceback (most recent call last)",
      "\u001b[36mCell\u001b[39m\u001b[36m \u001b[39m\u001b[32mIn[1]\u001b[39m\u001b[32m, line 1\u001b[39m\n\u001b[32m----> \u001b[39m\u001b[32m1\u001b[39m test = \u001b[43mpd\u001b[49m.read_excel(\u001b[33mr\u001b[39m\u001b[33m\"\u001b[39m\u001b[33mC:\u001b[39m\u001b[33m\\\u001b[39m\u001b[33mUsers\u001b[39m\u001b[33m\\\u001b[39m\u001b[33mDatassist\u001b[39m\u001b[33m\\\u001b[39m\u001b[33mDesktop\u001b[39m\u001b[33m\\\u001b[39m\u001b[33mawp detaylı test 3.xls\u001b[39m\u001b[33m\"\u001b[39m, engine=\u001b[33m\"\u001b[39m\u001b[33mxlrd\u001b[39m\u001b[33m\"\u001b[39m)\n\u001b[32m      2\u001b[39m prod = pd.read_excel(\u001b[33mr\u001b[39m\u001b[33m\"\u001b[39m\u001b[33mC:\u001b[39m\u001b[33m\\\u001b[39m\u001b[33mUsers\u001b[39m\u001b[33m\\\u001b[39m\u001b[33mDatassist\u001b[39m\u001b[33m\\\u001b[39m\u001b[33mDesktop\u001b[39m\u001b[33m\\\u001b[39m\u001b[33mawp detaylı canlı 3.xls\u001b[39m\u001b[33m\"\u001b[39m, engine=\u001b[33m\"\u001b[39m\u001b[33mxlrd\u001b[39m\u001b[33m\"\u001b[39m)\n\u001b[32m      3\u001b[39m \u001b[38;5;28mprint\u001b[39m(\u001b[33m\"\u001b[39m\u001b[33mDosyalar başarıyla okundu!\u001b[39m\u001b[33m\"\u001b[39m)\n",
      "\u001b[31mNameError\u001b[39m: name 'pd' is not defined"
     ]
    }
   ],
   "source": [
    "test = pd.read_excel(r\"C:\\Users\\Datassist\\Desktop\\awp detaylı test 3.xls\", engine=\"xlrd\")\n",
    "prod = pd.read_excel(r\"C:\\Users\\Datassist\\Desktop\\awp detaylı canlı 3.xls\", engine=\"xlrd\")\n",
    "print(\"Dosyalar başarıyla okundu!\")\n",
    "# Farklı olan sütunları bul\n",
    "test_cols = set(test.columns)\n",
    "prod_cols = set(prod.columns)\n",
    "\n",
    "# Sadece test'de olup prod'de olmayan sütunlar\n",
    "only_in_test = test_cols - prod_cols\n",
    "# Sadece prod'de olup test'de olmayan sütunlar\n",
    "only_in_prod = prod_cols - test_cols\n",
    "\n",
    "print(\"Sadece test'de olan sütunlar:\", only_in_test)\n",
    "print(\"Sadece prod'de olan sütunlar:\", only_in_prod)"
   ]
  },
  {
   "cell_type": "code",
   "execution_count": 15,
   "id": "6febd18f-975b-4fc3-811f-f57d30057e53",
   "metadata": {},
   "outputs": [
    {
     "ename": "ValueError",
     "evalue": "Can only compare identically-labeled (both index and columns) DataFrame objects",
     "output_type": "error",
     "traceback": [
      "\u001b[31m---------------------------------------------------------------------------\u001b[39m",
      "\u001b[31mValueError\u001b[39m                                Traceback (most recent call last)",
      "\u001b[32m~\\AppData\\Local\\Temp\\ipykernel_28932\\3467896799.py\u001b[39m in \u001b[36m?\u001b[39m\u001b[34m()\u001b[39m\n\u001b[32m----> \u001b[39m\u001b[32m1\u001b[39m farklar = test.compare(prod)\n\u001b[32m      2\u001b[39m \n\u001b[32m      3\u001b[39m \u001b[38;5;66;03m# Farkları yeni bir Excel dosyasına kaydet\u001b[39;00m\n\u001b[32m      4\u001b[39m farklar.to_excel(\u001b[33m\"farklar.xlsx\"\u001b[39m)\n",
      "\u001b[32m~\\AppData\\Local\\Programs\\Python\\Python313\\Lib\\site-packages\\pandas\\core\\frame.py\u001b[39m in \u001b[36m?\u001b[39m\u001b[34m(self, other, align_axis, keep_shape, keep_equal, result_names)\u001b[39m\n\u001b[32m   8589\u001b[39m         keep_shape: bool = \u001b[38;5;28;01mFalse\u001b[39;00m,\n\u001b[32m   8590\u001b[39m         keep_equal: bool = \u001b[38;5;28;01mFalse\u001b[39;00m,\n\u001b[32m   8591\u001b[39m         result_names: Suffixes = (\u001b[33m\"self\"\u001b[39m, \u001b[33m\"other\"\u001b[39m),\n\u001b[32m   8592\u001b[39m     ) -> DataFrame:\n\u001b[32m-> \u001b[39m\u001b[32m8593\u001b[39m         return super().compare(\n\u001b[32m   8594\u001b[39m             other=other,\n\u001b[32m   8595\u001b[39m             align_axis=align_axis,\n\u001b[32m   8596\u001b[39m             keep_shape=keep_shape,\n",
      "\u001b[32m~\\AppData\\Local\\Programs\\Python\\Python313\\Lib\\site-packages\\pandas\\core\\generic.py\u001b[39m in \u001b[36m?\u001b[39m\u001b[34m(self, other, align_axis, keep_shape, keep_equal, result_names)\u001b[39m\n\u001b[32m  10117\u001b[39m             raise TypeError(\n\u001b[32m  10118\u001b[39m                 f\"can only compare '{cls_self}' (not '{cls_other}') with '{cls_self}'\"\n\u001b[32m  10119\u001b[39m             )\n\u001b[32m  10120\u001b[39m \n\u001b[32m> \u001b[39m\u001b[32m10121\u001b[39m         mask = ~((self == other) | (self.isna() & other.isna()))\n\u001b[32m  10122\u001b[39m         mask.fillna(\u001b[38;5;28;01mTrue\u001b[39;00m, inplace=\u001b[38;5;28;01mTrue\u001b[39;00m)\n\u001b[32m  10123\u001b[39m \n\u001b[32m  10124\u001b[39m         \u001b[38;5;28;01mif\u001b[39;00m \u001b[38;5;28;01mnot\u001b[39;00m keep_equal:\n",
      "\u001b[32m~\\AppData\\Local\\Programs\\Python\\Python313\\Lib\\site-packages\\pandas\\core\\ops\\common.py\u001b[39m in \u001b[36m?\u001b[39m\u001b[34m(self, other)\u001b[39m\n\u001b[32m     72\u001b[39m                     \u001b[38;5;28;01mreturn\u001b[39;00m NotImplemented\n\u001b[32m     73\u001b[39m \n\u001b[32m     74\u001b[39m         other = item_from_zerodim(other)\n\u001b[32m     75\u001b[39m \n\u001b[32m---> \u001b[39m\u001b[32m76\u001b[39m         \u001b[38;5;28;01mreturn\u001b[39;00m method(self, other)\n",
      "\u001b[32m~\\AppData\\Local\\Programs\\Python\\Python313\\Lib\\site-packages\\pandas\\core\\arraylike.py\u001b[39m in \u001b[36m?\u001b[39m\u001b[34m(self, other)\u001b[39m\n\u001b[32m     38\u001b[39m     @unpack_zerodim_and_defer(\u001b[33m\"__eq__\"\u001b[39m)\n\u001b[32m     39\u001b[39m     \u001b[38;5;28;01mdef\u001b[39;00m __eq__(self, other):\n\u001b[32m---> \u001b[39m\u001b[32m40\u001b[39m         \u001b[38;5;28;01mreturn\u001b[39;00m self._cmp_method(other, operator.eq)\n",
      "\u001b[32m~\\AppData\\Local\\Programs\\Python\\Python313\\Lib\\site-packages\\pandas\\core\\frame.py\u001b[39m in \u001b[36m?\u001b[39m\u001b[34m(self, other, op)\u001b[39m\n\u001b[32m   7894\u001b[39m     \u001b[38;5;28;01mdef\u001b[39;00m _cmp_method(self, other, op):\n\u001b[32m   7895\u001b[39m         axis: Literal[\u001b[32m1\u001b[39m] = \u001b[32m1\u001b[39m  \u001b[38;5;66;03m# only relevant for Series other case\u001b[39;00m\n\u001b[32m   7896\u001b[39m \n\u001b[32m-> \u001b[39m\u001b[32m7897\u001b[39m         self, other = self._align_for_op(other, axis, flex=\u001b[38;5;28;01mFalse\u001b[39;00m, level=\u001b[38;5;28;01mNone\u001b[39;00m)\n\u001b[32m   7898\u001b[39m \n\u001b[32m   7899\u001b[39m         \u001b[38;5;66;03m# See GH#4537 for discussion of scalar op behavior\u001b[39;00m\n\u001b[32m   7900\u001b[39m         new_data = self._dispatch_frame_op(other, op, axis=axis)\n",
      "\u001b[32m~\\AppData\\Local\\Programs\\Python\\Python313\\Lib\\site-packages\\pandas\\core\\frame.py\u001b[39m in \u001b[36m?\u001b[39m\u001b[34m(self, other, axis, flex, level)\u001b[39m\n\u001b[32m   8192\u001b[39m                     left, right = left.align(\n\u001b[32m   8193\u001b[39m                         right, join=\u001b[33m\"outer\"\u001b[39m, level=level, copy=\u001b[38;5;28;01mFalse\u001b[39;00m\n\u001b[32m   8194\u001b[39m                     )\n\u001b[32m   8195\u001b[39m                 \u001b[38;5;28;01melse\u001b[39;00m:\n\u001b[32m-> \u001b[39m\u001b[32m8196\u001b[39m                     raise ValueError(\n\u001b[32m   8197\u001b[39m                         \u001b[33m\"Can only compare identically-labeled (both index and columns) \"\u001b[39m\n\u001b[32m   8198\u001b[39m                         \u001b[33m\"DataFrame objects\"\u001b[39m\n\u001b[32m   8199\u001b[39m                     )\n",
      "\u001b[31mValueError\u001b[39m: Can only compare identically-labeled (both index and columns) DataFrame objects"
     ]
    }
   ],
   "source": [
    "farklar = test.compare(prod)\n",
    "\n",
    "# Farkları yeni bir Excel dosyasına kaydet\n",
    "farklar.to_excel(\"farklar.xlsx\")"
   ]
  },
  {
   "cell_type": "code",
   "execution_count": null,
   "id": "22c80185-0116-41ff-b9e3-d6401958e9d4",
   "metadata": {},
   "outputs": [],
   "source": []
  }
 ],
 "metadata": {
  "kernelspec": {
   "display_name": "Python 3 (ipykernel)",
   "language": "python",
   "name": "python3"
  },
  "language_info": {
   "codemirror_mode": {
    "name": "ipython",
    "version": 3
   },
   "file_extension": ".py",
   "mimetype": "text/x-python",
   "name": "python",
   "nbconvert_exporter": "python",
   "pygments_lexer": "ipython3",
   "version": "3.13.2"
  }
 },
 "nbformat": 4,
 "nbformat_minor": 5
}
