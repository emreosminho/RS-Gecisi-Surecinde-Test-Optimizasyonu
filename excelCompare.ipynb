{
 "cells": [
  {
   "cell_type": "code",
   "execution_count": 3,
   "id": "981f8ffd-9d06-42d3-bbf7-8b78788766b5",
   "metadata": {},
   "outputs": [
    {
     "name": "stdout",
     "output_type": "stream",
     "text": [
      "Requirement already satisfied: pandas in c:\\users\\datassist\\appdata\\local\\programs\\python\\python313\\lib\\site-packages (2.2.3)\n",
      "Requirement already satisfied: xlrd in c:\\users\\datassist\\appdata\\local\\programs\\python\\python313\\lib\\site-packages (2.0.1)\n",
      "Requirement already satisfied: openpyxl in c:\\users\\datassist\\appdata\\local\\programs\\python\\python313\\lib\\site-packages (3.1.2)\n",
      "Requirement already satisfied: numpy>=1.26.0 in c:\\users\\datassist\\appdata\\local\\programs\\python\\python313\\lib\\site-packages (from pandas) (2.2.4)\n",
      "Requirement already satisfied: python-dateutil>=2.8.2 in c:\\users\\datassist\\appdata\\local\\programs\\python\\python313\\lib\\site-packages (from pandas) (2.9.0.post0)\n",
      "Requirement already satisfied: pytz>=2020.1 in c:\\users\\datassist\\appdata\\local\\programs\\python\\python313\\lib\\site-packages (from pandas) (2025.1)\n",
      "Requirement already satisfied: tzdata>=2022.7 in c:\\users\\datassist\\appdata\\local\\programs\\python\\python313\\lib\\site-packages (from pandas) (2025.1)\n",
      "Requirement already satisfied: et-xmlfile in c:\\users\\datassist\\appdata\\local\\programs\\python\\python313\\lib\\site-packages (from openpyxl) (2.0.0)\n",
      "Requirement already satisfied: six>=1.5 in c:\\users\\datassist\\appdata\\local\\programs\\python\\python313\\lib\\site-packages (from python-dateutil>=2.8.2->pandas) (1.17.0)\n"
     ]
    },
    {
     "name": "stderr",
     "output_type": "stream",
     "text": [
      "\n",
      "[notice] A new release of pip is available: 24.3.1 -> 25.2\n",
      "[notice] To update, run: python.exe -m pip install --upgrade pip\n"
     ]
    }
   ],
   "source": [
    "!pip install pandas xlrd openpyxl"
   ]
  },
  {
   "cell_type": "code",
   "execution_count": 4,
   "id": "64a59b21-fdbe-4417-9587-298d8cbd41a7",
   "metadata": {},
   "outputs": [],
   "source": [
    "import pandas as pd"
   ]
  },
  {
   "cell_type": "code",
   "execution_count": 5,
   "id": "edc9dbfc-094e-4eb1-a835-913b8611cfa2",
   "metadata": {},
   "outputs": [
    {
     "name": "stdout",
     "output_type": "stream",
     "text": [
      "Dosyalar başarıyla okundu!\n",
      "Sadece test'de olan sütunlar: set()\n",
      "Sadece prod'de olan sütunlar: set()\n"
     ]
    }
   ],
   "source": [
    "test = pd.read_excel(r\"C:\\Users\\Datassist\\Desktop\\ornekTest.xlsx\", engine=\"openpyxl\")\n",
    "prod = pd.read_excel(r\"C:\\Users\\Datassist\\Desktop\\ornekProd.xlsx\", engine=\"openpyxl\")\n",
    "print(\"Dosyalar başarıyla okundu!\")\n",
    "# Farklı olan sütunları bul\n",
    "test_cols = set(test.columns)\n",
    "prod_cols = set(prod.columns)\n",
    "\n",
    "# Sadece test'de olup prod'de olmayan sütunlar\n",
    "only_in_test = test_cols - prod_cols\n",
    "# Sadece prod'de olup test'de olmayan sütunlar\n",
    "only_in_prod = prod_cols - test_cols\n",
    "\n",
    "print(\"Sadece test'de olan sütunlar:\", only_in_test)\n",
    "print(\"Sadece prod'de olan sütunlar:\", only_in_prod)"
   ]
  },
  {
   "cell_type": "code",
   "execution_count": 6,
   "id": "6febd18f-975b-4fc3-811f-f57d30057e53",
   "metadata": {},
   "outputs": [],
   "source": [
    "farklar = test.compare(prod)\n",
    "\n",
    "# Farkları yeni bir Excel dosyasına kaydet\n",
    "farklar.to_excel(\"farklar.xlsx\")"
   ]
  },
  {
   "cell_type": "code",
   "execution_count": null,
   "id": "22c80185-0116-41ff-b9e3-d6401958e9d4",
   "metadata": {},
   "outputs": [],
   "source": []
  }
 ],
 "metadata": {
  "kernelspec": {
   "display_name": "Python 3 (ipykernel)",
   "language": "python",
   "name": "python3"
  },
  "language_info": {
   "codemirror_mode": {
    "name": "ipython",
    "version": 3
   },
   "file_extension": ".py",
   "mimetype": "text/x-python",
   "name": "python",
   "nbconvert_exporter": "python",
   "pygments_lexer": "ipython3",
   "version": "3.13.2"
  }
 },
 "nbformat": 4,
 "nbformat_minor": 5
}
