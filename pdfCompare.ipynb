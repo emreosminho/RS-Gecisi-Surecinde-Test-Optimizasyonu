{
 "cells": [
  {
   "cell_type": "code",
   "execution_count": 1,
   "id": "329ffca3-50b1-469d-9c91-24997c8bf634",
   "metadata": {},
   "outputs": [],
   "source": [
    "from pdf2image import convert_from_path\n",
    "from PIL import ImageChops, Image\n",
    "import numpy as np"
   ]
  },
  {
   "cell_type": "code",
   "execution_count": 2,
   "id": "10c84297-468b-4e8b-93ea-00584bafdab1",
   "metadata": {},
   "outputs": [],
   "source": [
    "# PDF'leri görüntüye çevir\n",
    "test_images = convert_from_path(r\"C:\\Users\\Datassist\\Desktop\\TEST-Abdulkerim YASAR Bordro Zarfi 06.05.2025 11_40_43.pdf\")\n",
    "prod_images = convert_from_path(r\"C:\\Users\\Datassist\\Desktop\\PROD-Abdulkerim YASAR Bordro Zarfi 06.05.2025 11_41_09.pdf\")\n",
    "\n",
    "# Aynı sayfa sayısı varsayılıyor (geliştirmek istersen kontrol ekle)\n",
    "for i in range(len(test_images)):\n",
    "    test_img = test_images[i].convert(\"RGB\")\n",
    "    prod_img = prod_images[i].convert(\"RGB\")\n",
    "\n",
    "    # Görseller arasında fark bul\n",
    "    diff = ImageChops.difference(test_img, prod_img)\n",
    "\n",
    "    # Fark varsa kaydet\n",
    "    if np.array(diff).sum() > 0:\n",
    "        diff.save(f\"diff_page_{i+1}.png\")"
   ]
  },
  {
   "cell_type": "code",
   "execution_count": null,
   "id": "16be7690-df9f-403f-991b-2d435407cd2d",
   "metadata": {},
   "outputs": [],
   "source": []
  }
 ],
 "metadata": {
  "kernelspec": {
   "display_name": "Python 3 (ipykernel)",
   "language": "python",
   "name": "python3"
  },
  "language_info": {
   "codemirror_mode": {
    "name": "ipython",
    "version": 3
   },
   "file_extension": ".py",
   "mimetype": "text/x-python",
   "name": "python",
   "nbconvert_exporter": "python",
   "pygments_lexer": "ipython3",
   "version": "3.13.2"
  }
 },
 "nbformat": 4,
 "nbformat_minor": 5
}
